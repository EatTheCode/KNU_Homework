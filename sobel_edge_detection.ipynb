{
 "cells": [
  {
   "cell_type": "code",
   "execution_count": 9,
   "metadata": {},
   "outputs": [],
   "source": [
    "import cv2\n",
    "\n",
    "def getSobel(img, x, y, k):\n",
    "    sobel = cv2.Sobel(img_gray, cv2.CV_8U, x, y, k) #x, y의 1차미분 차수, 커널의 크기(k*k)\n",
    "    sobel = cv2.convertScaleAbs(sobel)\n",
    "    return sobel"
   ]
  },
  {
   "cell_type": "code",
   "execution_count": 12,
   "metadata": {},
   "outputs": [],
   "source": [
    "\n",
    "img = cv2.imread('sample.jpg', cv2.IMREAD_COLOR)\n",
    "img_gray = cv2.cvtColor(img, cv2.COLOR_BGR2GRAY) #흑백으로 변경(0~255으로 표현하기 위해)\n",
    "\n",
    "sobel_x = getSobel(img_gray, 1, 0, 3) #y축 검출(수직선)\n",
    "sobel_y = getSobel(img_gray, 0, 1, 3) #x축 검출(수평선)\n",
    "\n",
    "sobel_sum = cv2.addWeighted(sobel_x, 1, sobel_y, 1, 0)\n",
    "\n",
    "cv2.imshow(\"Sobel X\", sobel_x)\n",
    "cv2.imshow(\"Sobel Y\", sobel_y)\n",
    "cv2.imshow(\"Sobel Sum\", sobel_sum)\n",
    "cv2.imshow(\"Image\", img_gray)\n",
    "\n",
    "cv2.waitKey(0)\n",
    "cv2.destroyAllWindows()"
   ]
  },
  {
   "cell_type": "code",
   "execution_count": null,
   "metadata": {},
   "outputs": [],
   "source": []
  }
 ],
 "metadata": {
  "kernelspec": {
   "display_name": "Python 3",
   "language": "python",
   "name": "python3"
  },
  "language_info": {
   "codemirror_mode": {
    "name": "ipython",
    "version": 3
   },
   "file_extension": ".py",
   "mimetype": "text/x-python",
   "name": "python",
   "nbconvert_exporter": "python",
   "pygments_lexer": "ipython3",
   "version": "3.8.5"
  }
 },
 "nbformat": 4,
 "nbformat_minor": 4
}
